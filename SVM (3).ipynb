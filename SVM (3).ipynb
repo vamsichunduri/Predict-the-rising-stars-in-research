{
 "cells": [
  {
   "cell_type": "code",
   "execution_count": 270,
   "metadata": {},
   "outputs": [
    {
     "name": "stdout",
     "output_type": "stream",
     "text": [
      "   no of pubs 10-15  no of pubs 5-10  mutual_weight  NO_OF_PUB  \\\n",
      "0          0.066667              0.0         0.0025        0.0   \n",
      "1          0.066667              0.0         0.0025        0.0   \n",
      "2          0.066667              0.0         0.0025        0.0   \n",
      "\n",
      "   Author_influence  Coauthor_citation  Final_target  \n",
      "0            0.0025            0.00031           0.0  \n",
      "1            0.0025            0.00031           0.0  \n",
      "2            0.0025            0.00031           0.0  \n",
      "       no of pubs 10-15  no of pubs 5-10  mutual_weight  NO_OF_PUB  \\\n",
      "33095               0.0              0.0         0.0025        0.0   \n",
      "33096               0.0              0.0         0.0025        0.0   \n",
      "33097               0.0              0.0         0.0025        0.0   \n",
      "\n",
      "       Author_influence  Coauthor_citation  Final_target  \n",
      "33095            0.0025           0.002015           0.0  \n",
      "33096            0.0025           0.002015           0.0  \n",
      "33097            0.0025           0.002015           0.0  \n"
     ]
    }
   ],
   "source": [
    "import pandas as pd\n",
    "import numpy as np\n",
    "from sklearn import svm\n",
    "from sklearn import metrics\n",
    "from sklearn.preprocessing import Imputer\n",
    "from sklearn.cross_validation import train_test_split\n",
    "import matplotlib.pyplot as plt\n",
    "%matplotlib inline\n",
    "\n",
    "raw_data=pd.read_csv(\"feat9.csv\",usecols=[\"no of pubs 10-15\", \"no of pubs 5-10\", \"mutual_weight\", \"NO_OF_PUB\",\"Author_influence\", \"Coauthor_citation\",'Final_target'])\n",
    "\n",
    "print (raw_data.head(3))\n",
    "print(raw_data.tail(3))"
   ]
  },
  {
   "cell_type": "code",
   "execution_count": 254,
   "metadata": {},
   "outputs": [
    {
     "data": {
      "text/html": [
       "<div>\n",
       "<style scoped>\n",
       "    .dataframe tbody tr th:only-of-type {\n",
       "        vertical-align: middle;\n",
       "    }\n",
       "\n",
       "    .dataframe tbody tr th {\n",
       "        vertical-align: top;\n",
       "    }\n",
       "\n",
       "    .dataframe thead th {\n",
       "        text-align: right;\n",
       "    }\n",
       "</style>\n",
       "<table border=\"1\" class=\"dataframe\">\n",
       "  <thead>\n",
       "    <tr style=\"text-align: right;\">\n",
       "      <th></th>\n",
       "      <th>no of pubs 10-15</th>\n",
       "      <th>no of pubs 5-10</th>\n",
       "      <th>mutual_weight</th>\n",
       "      <th>NO_OF_PUB</th>\n",
       "      <th>Author_influence</th>\n",
       "      <th>Coauthor_citation</th>\n",
       "      <th>FIN_TARGET</th>\n",
       "    </tr>\n",
       "  </thead>\n",
       "  <tbody>\n",
       "    <tr>\n",
       "      <th>0</th>\n",
       "      <td>0.066667</td>\n",
       "      <td>0.0</td>\n",
       "      <td>0.0025</td>\n",
       "      <td>0.0</td>\n",
       "      <td>0.0025</td>\n",
       "      <td>0.000310</td>\n",
       "      <td>0</td>\n",
       "    </tr>\n",
       "    <tr>\n",
       "      <th>1</th>\n",
       "      <td>0.066667</td>\n",
       "      <td>0.0</td>\n",
       "      <td>0.0025</td>\n",
       "      <td>0.0</td>\n",
       "      <td>0.0025</td>\n",
       "      <td>0.000310</td>\n",
       "      <td>0</td>\n",
       "    </tr>\n",
       "    <tr>\n",
       "      <th>2</th>\n",
       "      <td>0.066667</td>\n",
       "      <td>0.0</td>\n",
       "      <td>0.0025</td>\n",
       "      <td>0.0</td>\n",
       "      <td>0.0025</td>\n",
       "      <td>0.000310</td>\n",
       "      <td>0</td>\n",
       "    </tr>\n",
       "    <tr>\n",
       "      <th>3</th>\n",
       "      <td>0.066667</td>\n",
       "      <td>0.0</td>\n",
       "      <td>0.0025</td>\n",
       "      <td>0.0</td>\n",
       "      <td>0.0025</td>\n",
       "      <td>0.002635</td>\n",
       "      <td>0</td>\n",
       "    </tr>\n",
       "    <tr>\n",
       "      <th>4</th>\n",
       "      <td>0.066667</td>\n",
       "      <td>0.0</td>\n",
       "      <td>0.0025</td>\n",
       "      <td>0.0</td>\n",
       "      <td>0.0025</td>\n",
       "      <td>0.000775</td>\n",
       "      <td>0</td>\n",
       "    </tr>\n",
       "  </tbody>\n",
       "</table>\n",
       "</div>"
      ],
      "text/plain": [
       "   no of pubs 10-15  no of pubs 5-10  mutual_weight  NO_OF_PUB  \\\n",
       "0          0.066667              0.0         0.0025        0.0   \n",
       "1          0.066667              0.0         0.0025        0.0   \n",
       "2          0.066667              0.0         0.0025        0.0   \n",
       "3          0.066667              0.0         0.0025        0.0   \n",
       "4          0.066667              0.0         0.0025        0.0   \n",
       "\n",
       "   Author_influence  Coauthor_citation  FIN_TARGET  \n",
       "0            0.0025           0.000310           0  \n",
       "1            0.0025           0.000310           0  \n",
       "2            0.0025           0.000310           0  \n",
       "3            0.0025           0.002635           0  \n",
       "4            0.0025           0.000775           0  "
      ]
     },
     "execution_count": 254,
     "metadata": {},
     "output_type": "execute_result"
    }
   ],
   "source": [
    "raw_data.head()"
   ]
  },
  {
   "cell_type": "code",
   "execution_count": null,
   "metadata": {},
   "outputs": [],
   "source": []
  },
  {
   "cell_type": "code",
   "execution_count": 255,
   "metadata": {},
   "outputs": [
    {
     "name": "stdout",
     "output_type": "stream",
     "text": [
      "                   no of pubs 10-15  no of pubs 5-10  mutual_weight  \\\n",
      "no of pubs 10-15           1.000000        -0.210752       0.108576   \n",
      "no of pubs 5-10           -0.210752         1.000000      -0.024949   \n",
      "mutual_weight              0.108576        -0.024949       1.000000   \n",
      "NO_OF_PUB                  0.260277         0.267970       0.019971   \n",
      "Author_influence           0.054313        -0.032585       0.969355   \n",
      "Coauthor_citation          0.055847        -0.017460       0.183205   \n",
      "\n",
      "                   NO_OF_PUB  Author_influence  Coauthor_citation  \n",
      "no of pubs 10-15    0.260277          0.054313           0.055847  \n",
      "no of pubs 5-10     0.267970         -0.032585          -0.017460  \n",
      "mutual_weight       0.019971          0.969355           0.183205  \n",
      "NO_OF_PUB           1.000000         -0.048999          -0.022747  \n",
      "Author_influence   -0.048999          1.000000           0.164947  \n",
      "Coauthor_citation  -0.022747          0.164947           1.000000  \n"
     ]
    }
   ],
   "source": [
    "print(xx.corr())"
   ]
  },
  {
   "cell_type": "code",
   "execution_count": 256,
   "metadata": {},
   "outputs": [
    {
     "data": {
      "text/plain": [
       "<matplotlib.axes._subplots.AxesSubplot at 0x26caf323358>"
      ]
     },
     "execution_count": 256,
     "metadata": {},
     "output_type": "execute_result"
    },
    {
     "data": {
      "image/png": "[encoded data removed]",
      "text/plain": [
       "<matplotlib.figure.Figure at 0x26ca051a588>"
      ]
     },
     "metadata": {},
     "output_type": "display_data"
    }
   ],
   "source": [
    "import seaborn as sns\n",
    "corr = raw_data.corr()\n",
    "sns.heatmap(corr, \n",
    "            xticklabels=corr.columns.values,\n",
    "            yticklabels=corr.columns.values)"
   ]
  },
  {
   "cell_type": "code",
   "execution_count": 271,
   "metadata": {},
   "outputs": [],
   "source": [
    "X = raw_data.values[:,0:6]\n",
    "Y = raw_data.values[:,6]\n",
    "\n",
    "X_train, X_test, y_train, y_test = train_test_split( X, Y, test_size = 0.2, random_state = 100)"
   ]
  },
  {
   "cell_type": "code",
   "execution_count": 266,
   "metadata": {},
   "outputs": [],
   "source": [
    "\n"
   ]
  },
  {
   "cell_type": "code",
   "execution_count": 268,
   "metadata": {},
   "outputs": [],
   "source": []
  },
  {
   "cell_type": "code",
   "execution_count": null,
   "metadata": {},
   "outputs": [],
   "source": []
  },
  {
   "cell_type": "code",
   "execution_count": 272,
   "metadata": {},
   "outputs": [],
   "source": [
    "clf = svm.SVC(C=1)"
   ]
  },
  {
   "cell_type": "code",
   "execution_count": 273,
   "metadata": {},
   "outputs": [],
   "source": [
    "#train_class_array=np.round(test_class_array,decimals=6)\n",
    "#test_data_array=np.round(test_data_array,decimals=6)\n",
    "#test_data_array=np.nan_to_num(test_data_array)\n",
    "#test_class_array=np.nan_to_num(test_class_array)\n",
    "    "
   ]
  },
  {
   "cell_type": "code",
   "execution_count": 274,
   "metadata": {},
   "outputs": [
    {
     "data": {
      "text/plain": [
       "SVC(C=1, cache_size=200, class_weight=None, coef0=0.0,\n",
       "  decision_function_shape='ovr', degree=3, gamma='auto', kernel='rbf',\n",
       "  max_iter=-1, probability=False, random_state=None, shrinking=True,\n",
       "  tol=0.001, verbose=False)"
      ]
     },
     "execution_count": 274,
     "metadata": {},
     "output_type": "execute_result"
    }
   ],
   "source": [
    "\n",
    "clf.fit(X_train,y_train)"
   ]
  },
  {
   "cell_type": "code",
   "execution_count": 275,
   "metadata": {},
   "outputs": [
    {
     "data": {
      "text/plain": [
       "26478"
      ]
     },
     "execution_count": 275,
     "metadata": {},
     "output_type": "execute_result"
    }
   ],
   "source": [
    "len(X_train)"
   ]
  },
  {
   "cell_type": "markdown",
   "metadata": {},
   "source": [
    "##### clf.fit(X_train, y_train)"
   ]
  },
  {
   "cell_type": "code",
   "execution_count": 276,
   "metadata": {},
   "outputs": [],
   "source": []
  },
  {
   "cell_type": "markdown",
   "metadata": {},
   "source": [
    "SVM Evaluation Metrics"
   ]
  },
  {
   "cell_type": "code",
   "execution_count": 277,
   "metadata": {},
   "outputs": [
    {
     "name": "stdout",
     "output_type": "stream",
     "text": [
      "accuracy:   0.897\n",
      "Precision:   0.804\n",
      "Recall:   0.897\n",
      "F-measure:   0.848\n"
     ]
    },
    {
     "name": "stderr",
     "output_type": "stream",
     "text": [
      "C:\\Users\\vamsi.DESKTOP-L1SPHQG\\Anaconda3\\lib\\site-packages\\sklearn\\metrics\\classification.py:1135: UndefinedMetricWarning: Precision is ill-defined and being set to 0.0 in labels with no predicted samples.\n",
      "  'precision', 'predicted', average, warn_for)\n",
      "C:\\Users\\vamsi.DESKTOP-L1SPHQG\\Anaconda3\\lib\\site-packages\\sklearn\\metrics\\classification.py:1135: UndefinedMetricWarning: F-score is ill-defined and being set to 0.0 in labels with no predicted samples.\n",
      "  'precision', 'predicted', average, warn_for)\n"
     ]
    }
   ],
   "source": [
    "pred = clf.predict(X_test)\n",
    "score = metrics.accuracy_score(y_test, pred)\n",
    "print(\"accuracy:   %0.3f\" % score)\n",
    "\n",
    "score = metrics.precision_score(y_test, pred,average='weighted')\n",
    "print(\"Precision:   %0.3f\" % score)\n",
    "\n",
    "score = metrics.recall_score(y_test, pred,average='weighted')\n",
    "print(\"Recall:   %0.3f\" % score)\n",
    "\n",
    "score = metrics.f1_score(y_test, pred,average='weighted')\n",
    "print(\"F-measure:   %0.3f\" % score)"
   ]
  },
  {
   "cell_type": "code",
   "execution_count": 250,
   "metadata": {},
   "outputs": [],
   "source": [
    "from sklearn.decomposition import PCA\n",
    "pca = PCA(n_components=5).fit(X_train)\n",
    "pca_5d = pca.transform(X_train)"
   ]
  },
  {
   "cell_type": "code",
   "execution_count": null,
   "metadata": {},
   "outputs": [],
   "source": []
  },
  {
   "cell_type": "code",
   "execution_count": 173,
   "metadata": {},
   "outputs": [
    {
     "data": {
      "image/png": "[encoded data removed]",
      "text/plain": [
       "<matplotlib.figure.Figure at 0x26c8e98bd30>"
      ]
     },
     "metadata": {},
     "output_type": "display_data"
    }
   ],
   "source": [
    "import pylab as pl\n",
    "from sklearn.decomposition import PCA\n",
    "pca = PCA(n_components=5).fit(X_train)\n",
    "pca_5d = pca.transform(X_train)\n",
    "for i in range(0, (pca_5d.shape[0]-1)):\n",
    "    if y_train[i] == 1:\n",
    "        c1=pl.scatter(pca_5d[i,0],pca_5d[i,3],c='g',marker='o')\n",
    "    elif y_train[i] ==2:\n",
    "        \n",
    "        c2=pl.scatter(pca_5d[i,0],pca_5d[i,3],c='b',marker='+')\n",
    "    elif y_train[i] ==0:\n",
    "        \n",
    "        c3=pl.scatter(pca_5d[i,0],pca_5d[i,3],c='r',marker='*')    \n",
    "        \n",
    "pl.legend([c1, c2, c3], ['MayBE', 'RisingSTar','No'])\n",
    "pl.title('Predicting rising stars')\n",
    "pl.show()        \n",
    "        \n",
    "   "
   ]
  },
  {
   "cell_type": "code",
   "execution_count": 174,
   "metadata": {},
   "outputs": [],
   "source": [
    "  \n"
   ]
  },
  {
   "cell_type": "code",
   "execution_count": null,
   "metadata": {},
   "outputs": [],
   "source": []
  },
  {
   "cell_type": "code",
   "execution_count": null,
   "metadata": {},
   "outputs": [],
   "source": []
  },
  {
   "cell_type": "code",
   "execution_count": null,
   "metadata": {},
   "outputs": [],
   "source": []
  }
 ],
 "metadata": {
  "kernelspec": {
   "display_name": "Python 3",
   "language": "python",
   "name": "python3"
  },
  "language_info": {
   "codemirror_mode": {
    "name": "ipython",
    "version": 3
   },
   "file_extension": ".py",
   "mimetype": "text/x-python",
   "name": "python",
   "nbconvert_exporter": "python",
   "pygments_lexer": "ipython3",
   "version": "3.6.4"
  }
 },
 "nbformat": 4,
 "nbformat_minor": 2
}
