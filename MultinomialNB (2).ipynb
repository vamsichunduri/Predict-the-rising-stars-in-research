{
 "cells": [
  {
   "cell_type": "code",
   "execution_count": 38,
   "metadata": {},
   "outputs": [
    {
     "name": "stdout",
     "output_type": "stream",
     "text": [
      "   no of pubs 10-15  no of pubs 5-10  mutual_weight  NO_OF_PUB  \\\n",
      "0          0.066667              0.0         0.0025        0.0   \n",
      "1          0.066667              0.0         0.0025        0.0   \n",
      "2          0.066667              0.0         0.0025        0.0   \n",
      "\n",
      "   Author_influence  Coauthor_citation  Final_target  \n",
      "0            0.0025            0.00031           0.0  \n",
      "1            0.0025            0.00031           0.0  \n",
      "2            0.0025            0.00031           0.0  \n",
      "       no of pubs 10-15  no of pubs 5-10  mutual_weight  NO_OF_PUB  \\\n",
      "33095               0.0              0.0         0.0025        0.0   \n",
      "33096               0.0              0.0         0.0025        0.0   \n",
      "33097               0.0              0.0         0.0025        0.0   \n",
      "\n",
      "       Author_influence  Coauthor_citation  Final_target  \n",
      "33095            0.0025           0.002015           0.0  \n",
      "33096            0.0025           0.002015           0.0  \n",
      "33097            0.0025           0.002015           0.0  \n"
     ]
    }
   ],
   "source": [
    "from sklearn.naive_bayes import MultinomialNB\n",
    "from sklearn.model_selection import KFold\n",
    "from sklearn.cross_validation import train_test_split\n",
    "import pandas as pd\n",
    "import numpy as np\n",
    "from sklearn import metrics\n",
    "import random\n",
    "\n",
    "clf = MultinomialNB()\n",
    "use_jrnl_metrics=False\n",
    "\n",
    "raw_data=pd.read_csv(\"feat9.csv\",usecols=[\"no of pubs 10-15\", \"no of pubs 5-10\", \"mutual_weight\", \"NO_OF_PUB\",\"Author_influence\", \"Coauthor_citation\",\"Final_target\"])\n",
    "print (raw_data.head(3))\n",
    "print(raw_data.tail(3))\n",
    "def rn(x):\n",
    "    i=0\n",
    "    while(i<x):\n",
    "        rand=random.randint(1,23167)\n",
    "        train_class_array[rand]=1\n",
    "        i+=1\n"
   ]
  },
  {
   "cell_type": "code",
   "execution_count": 39,
   "metadata": {},
   "outputs": [
    {
     "data": {
      "text/plain": [
       "MultinomialNB(alpha=1.0, class_prior=None, fit_prior=True)"
      ]
     },
     "execution_count": 39,
     "metadata": {},
     "output_type": "execute_result"
    }
   ],
   "source": [
    "raw_data = raw_data.sample(frac=1).reset_index(drop=True)\n",
    "train = raw_data.sample(frac=0.7, random_state=1)\n",
    "test = raw_data.loc[~raw_data.index.isin(train.index)]\n",
    "# , \"q&a\", \"pinterest\"\n",
    "data_columns=[ \"no of pubs 10-15\", \"no of pubs 5-10\", \"NO_OF_PUB\", \"Coauthor_citation\"]\n",
    "if use_jrnl_metrics:\n",
    "    data_columns.append(\"h_index\")\n",
    "train_data_array=train.as_matrix(columns=data_columns)\n",
    "train_class_array= train['Final_target'].values\n",
    "test_data_array=test.as_matrix(columns=data_columns)\n",
    "test_class_array= test['Final_target'].values\n",
    "len(test_class_array)\n",
    "clf.fit(train_data_array,train_class_array)"
   ]
  },
  {
   "cell_type": "code",
   "execution_count": null,
   "metadata": {},
   "outputs": [],
   "source": []
  },
  {
   "cell_type": "code",
   "execution_count": null,
   "metadata": {},
   "outputs": [],
   "source": [
    "\n"
   ]
  },
  {
   "cell_type": "code",
   "execution_count": null,
   "metadata": {},
   "outputs": [],
   "source": []
  },
  {
   "cell_type": "code",
   "execution_count": 40,
   "metadata": {},
   "outputs": [],
   "source": [
    "kf=KFold(n_splits=10, random_state=None, shuffle=False)\n",
    "validation_score=0\n",
    "rn(1000)\n",
    "for train_index, test_index in kf.split(train_data_array):\n",
    "    X_train, X_test = train_data_array[train_index], train_data_array[test_index]\n",
    "    y_train, y_test = train_class_array[train_index], train_class_array[test_index]\n",
    "    clf.fit(X_train, y_train)\n",
    "    validation_pred=clf.predict(X_test)\n",
    "    validation_score+=metrics.accuracy_score(y_test,validation_pred)\n",
    "\n"
   ]
  },
  {
   "cell_type": "markdown",
   "metadata": {},
   "source": [
    "MultinomialNB Evaluation Metrics\n"
   ]
  },
  {
   "cell_type": "code",
   "execution_count": 41,
   "metadata": {},
   "outputs": [
    {
     "name": "stdout",
     "output_type": "stream",
     "text": [
      "Validation Accuracy:   0.858\n",
      "accuracy:   0.852\n",
      "Precision:   0.726\n",
      "Recall:   0.852\n",
      "F-measure:   0.784\n"
     ]
    },
    {
     "name": "stderr",
     "output_type": "stream",
     "text": [
      "C:\\Users\\vamsi.DESKTOP-L1SPHQG\\Anaconda3\\lib\\site-packages\\sklearn\\metrics\\classification.py:1135: UndefinedMetricWarning: Precision is ill-defined and being set to 0.0 in labels with no predicted samples.\n",
      "  'precision', 'predicted', average, warn_for)\n",
      "C:\\Users\\vamsi.DESKTOP-L1SPHQG\\Anaconda3\\lib\\site-packages\\sklearn\\metrics\\classification.py:1135: UndefinedMetricWarning: F-score is ill-defined and being set to 0.0 in labels with no predicted samples.\n",
      "  'precision', 'predicted', average, warn_for)\n"
     ]
    }
   ],
   "source": [
    "print(\"Validation Accuracy:   %0.3f\" % (validation_score/kf.get_n_splits()))\n",
    "\n",
    "pred = clf.predict(X_test)\n",
    "score = metrics.accuracy_score(y_test, pred)\n",
    "print(\"accuracy:   %0.3f\" % score)\n",
    "\n",
    "score = metrics.precision_score(y_test, pred,average='weighted')\n",
    "print(\"Precision:   %0.3f\" % score)\n",
    "\n",
    "score = metrics.recall_score(y_test, pred,average='weighted')\n",
    "print(\"Recall:   %0.3f\" % score)\n",
    "\n",
    "score = metrics.f1_score(y_test, pred,average='weighted')\n",
    "print(\"F-measure:   %0.3f\" % score)"
   ]
  },
  {
   "cell_type": "code",
   "execution_count": null,
   "metadata": {},
   "outputs": [],
   "source": []
  },
  {
   "cell_type": "code",
   "execution_count": null,
   "metadata": {},
   "outputs": [],
   "source": []
  },
  {
   "cell_type": "code",
   "execution_count": null,
   "metadata": {},
   "outputs": [],
   "source": []
  }
 ],
 "metadata": {
  "kernelspec": {
   "display_name": "Python 3",
   "language": "python",
   "name": "python3"
  },
  "language_info": {
   "codemirror_mode": {
    "name": "ipython",
    "version": 3
   },
   "file_extension": ".py",
   "mimetype": "text/x-python",
   "name": "python",
   "nbconvert_exporter": "python",
   "pygments_lexer": "ipython3",
   "version": "3.6.4"
  }
 },
 "nbformat": 4,
 "nbformat_minor": 2
}
